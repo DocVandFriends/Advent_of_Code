{
 "cells": [
  {
   "cell_type": "markdown",
   "metadata": {},
   "source": [
    "# Part 1"
   ]
  },
  {
   "cell_type": "code",
   "execution_count": 14,
   "metadata": {},
   "outputs": [],
   "source": [
    "import re"
   ]
  },
  {
   "cell_type": "code",
   "execution_count": 15,
   "metadata": {},
   "outputs": [],
   "source": [
    "max_red = 12\n",
    "max_green = 13\n",
    "max_blue = 14"
   ]
  },
  {
   "cell_type": "code",
   "execution_count": 16,
   "metadata": {},
   "outputs": [],
   "source": [
    "with open('../../data/Day02.csv') as file:\n",
    "    data = file.read().splitlines()"
   ]
  },
  {
   "cell_type": "code",
   "execution_count": 17,
   "metadata": {},
   "outputs": [],
   "source": [
    "def max_cube_color(game, color):\n",
    "    cubes = re.findall('(\\d+) (\\w+)', game)\n",
    "    counts = [int(draw[0]) for draw in cubes if draw[1] == color]\n",
    "    return (max(counts))"
   ]
  },
  {
   "cell_type": "code",
   "execution_count": 18,
   "metadata": {},
   "outputs": [],
   "source": [
    "possible_games = []"
   ]
  },
  {
   "cell_type": "code",
   "execution_count": 19,
   "metadata": {},
   "outputs": [
    {
     "name": "stdout",
     "output_type": "stream",
     "text": [
      "2176\n"
     ]
    }
   ],
   "source": [
    "for enum, game in enumerate(data, start=1):\n",
    "    if (max_cube_color(game, 'red') <= max_red) and (max_cube_color(game, 'green') <= max_green) and (max_cube_color(game, 'blue') <= max_blue):\n",
    "        possible_games.append(enum)\n",
    "        \n",
    "print(sum(possible_games))"
   ]
  },
  {
   "cell_type": "markdown",
   "metadata": {},
   "source": [
    "# Part 2"
   ]
  },
  {
   "cell_type": "code",
   "execution_count": 22,
   "metadata": {},
   "outputs": [],
   "source": [
    "from math import prod"
   ]
  },
  {
   "cell_type": "code",
   "execution_count": 21,
   "metadata": {},
   "outputs": [
    {
     "data": {
      "text/plain": [
       "[(4, 7, 4),\n",
       " (11, 13, 3),\n",
       " (9, 3, 9),\n",
       " (7, 11, 17),\n",
       " (7, 6, 7),\n",
       " (11, 2, 13),\n",
       " (13, 12, 8),\n",
       " (4, 1, 15),\n",
       " (11, 1, 5),\n",
       " (9, 20, 6),\n",
       " (14, 11, 6),\n",
       " (8, 5, 4),\n",
       " (12, 7, 15),\n",
       " (16, 4, 1),\n",
       " (2, 3, 6),\n",
       " (3, 18, 4),\n",
       " (3, 5, 15),\n",
       " (12, 9, 12),\n",
       " (16, 6, 3),\n",
       " (2, 1, 5),\n",
       " (6, 15, 19),\n",
       " (10, 9, 3),\n",
       " (12, 4, 5),\n",
       " (16, 1, 3),\n",
       " (14, 6, 9),\n",
       " (6, 5, 6),\n",
       " (4, 6, 9),\n",
       " (2, 5, 5),\n",
       " (9, 1, 6),\n",
       " (2, 10, 13),\n",
       " (4, 7, 9),\n",
       " (14, 13, 6),\n",
       " (6, 13, 5),\n",
       " (14, 9, 3),\n",
       " (1, 19, 10),\n",
       " (4, 15, 8),\n",
       " (9, 14, 1),\n",
       " (8, 9, 2),\n",
       " (7, 3, 7),\n",
       " (4, 14, 6),\n",
       " (7, 15, 19),\n",
       " (7, 15, 2),\n",
       " (6, 7, 18),\n",
       " (5, 4, 17),\n",
       " (3, 11, 13),\n",
       " (5, 12, 14),\n",
       " (1, 3, 16),\n",
       " (14, 8, 11),\n",
       " (6, 14, 11),\n",
       " (7, 7, 13),\n",
       " (16, 1, 6),\n",
       " (9, 16, 5),\n",
       " (17, 9, 15),\n",
       " (3, 9, 3),\n",
       " (20, 14, 11),\n",
       " (16, 1, 5),\n",
       " (1, 11, 13),\n",
       " (11, 6, 14),\n",
       " (7, 15, 1),\n",
       " (9, 7, 4),\n",
       " (2, 2, 3),\n",
       " (14, 16, 15),\n",
       " (5, 2, 7),\n",
       " (13, 4, 9),\n",
       " (11, 13, 8),\n",
       " (12, 1, 17),\n",
       " (13, 12, 15),\n",
       " (1, 17, 11),\n",
       " (11, 14, 10),\n",
       " (12, 16, 15),\n",
       " (8, 12, 1),\n",
       " (15, 7, 6),\n",
       " (11, 6, 3),\n",
       " (7, 3, 1),\n",
       " (20, 13, 13),\n",
       " (9, 9, 4),\n",
       " (6, 12, 16),\n",
       " (19, 8, 14),\n",
       " (15, 1, 10),\n",
       " (7, 3, 3),\n",
       " (2, 12, 12),\n",
       " (18, 15, 5),\n",
       " (11, 13, 7),\n",
       " (1, 4, 16),\n",
       " (7, 17, 8),\n",
       " (9, 17, 12),\n",
       " (13, 3, 13),\n",
       " (18, 2, 13),\n",
       " (3, 6, 5),\n",
       " (9, 4, 8),\n",
       " (13, 15, 2),\n",
       " (11, 6, 16),\n",
       " (5, 17, 9),\n",
       " (7, 9, 4),\n",
       " (8, 5, 9),\n",
       " (13, 15, 5),\n",
       " (1, 7, 6),\n",
       " (7, 8, 4),\n",
       " (3, 8, 12),\n",
       " (14, 1, 4)]"
      ]
     },
     "execution_count": 21,
     "metadata": {},
     "output_type": "execute_result"
    }
   ],
   "source": [
    "minimum_cubes = [(max_cube_color(game, 'red'), max_cube_color(game, 'green'), max_cube_color(game, 'blue')) for game in data]\n",
    "\n",
    "minimum_cubes"
   ]
  },
  {
   "cell_type": "code",
   "execution_count": 23,
   "metadata": {},
   "outputs": [
    {
     "data": {
      "text/plain": [
       "[112,\n",
       " 429,\n",
       " 243,\n",
       " 1309,\n",
       " 294,\n",
       " 286,\n",
       " 1248,\n",
       " 60,\n",
       " 55,\n",
       " 1080,\n",
       " 924,\n",
       " 160,\n",
       " 1260,\n",
       " 64,\n",
       " 36,\n",
       " 216,\n",
       " 225,\n",
       " 1296,\n",
       " 288,\n",
       " 10,\n",
       " 1710,\n",
       " 270,\n",
       " 240,\n",
       " 48,\n",
       " 756,\n",
       " 180,\n",
       " 216,\n",
       " 50,\n",
       " 54,\n",
       " 260,\n",
       " 252,\n",
       " 1092,\n",
       " 390,\n",
       " 378,\n",
       " 190,\n",
       " 480,\n",
       " 126,\n",
       " 144,\n",
       " 147,\n",
       " 336,\n",
       " 1995,\n",
       " 210,\n",
       " 756,\n",
       " 340,\n",
       " 429,\n",
       " 840,\n",
       " 48,\n",
       " 1232,\n",
       " 924,\n",
       " 637,\n",
       " 96,\n",
       " 720,\n",
       " 2295,\n",
       " 81,\n",
       " 3080,\n",
       " 80,\n",
       " 143,\n",
       " 924,\n",
       " 105,\n",
       " 252,\n",
       " 12,\n",
       " 3360,\n",
       " 70,\n",
       " 468,\n",
       " 1144,\n",
       " 204,\n",
       " 2340,\n",
       " 187,\n",
       " 1540,\n",
       " 2880,\n",
       " 96,\n",
       " 630,\n",
       " 198,\n",
       " 21,\n",
       " 3380,\n",
       " 324,\n",
       " 1152,\n",
       " 2128,\n",
       " 150,\n",
       " 63,\n",
       " 288,\n",
       " 1350,\n",
       " 1001,\n",
       " 64,\n",
       " 952,\n",
       " 1836,\n",
       " 507,\n",
       " 468,\n",
       " 90,\n",
       " 288,\n",
       " 390,\n",
       " 1056,\n",
       " 765,\n",
       " 252,\n",
       " 360,\n",
       " 975,\n",
       " 42,\n",
       " 224,\n",
       " 288,\n",
       " 56]"
      ]
     },
     "execution_count": 23,
     "metadata": {},
     "output_type": "execute_result"
    }
   ],
   "source": [
    "game_power = [prod(game) for game in minimum_cubes]\n",
    "game_power"
   ]
  },
  {
   "cell_type": "code",
   "execution_count": 24,
   "metadata": {},
   "outputs": [
    {
     "data": {
      "text/plain": [
       "63700"
      ]
     },
     "execution_count": 24,
     "metadata": {},
     "output_type": "execute_result"
    }
   ],
   "source": [
    "sum(game_power)"
   ]
  },
  {
   "cell_type": "code",
   "execution_count": null,
   "metadata": {},
   "outputs": [],
   "source": []
  }
 ],
 "metadata": {
  "kernelspec": {
   "display_name": "base",
   "language": "python",
   "name": "python3"
  },
  "language_info": {
   "codemirror_mode": {
    "name": "ipython",
    "version": 3
   },
   "file_extension": ".py",
   "mimetype": "text/x-python",
   "name": "python",
   "nbconvert_exporter": "python",
   "pygments_lexer": "ipython3",
   "version": "3.11.3"
  }
 },
 "nbformat": 4,
 "nbformat_minor": 2
}
